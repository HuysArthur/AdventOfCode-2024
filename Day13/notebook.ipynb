{
 "cells": [
  {
   "cell_type": "code",
   "execution_count": 2,
   "metadata": {},
   "outputs": [],
   "source": [
    "sample_input = \"\"\"\n",
    "Button A: X+94, Y+34\n",
    "Button B: X+22, Y+67\n",
    "Prize: X=8400, Y=5400\n",
    "\n",
    "Button A: X+26, Y+66\n",
    "Button B: X+67, Y+21\n",
    "Prize: X=12748, Y=12176\n",
    "\n",
    "Button A: X+17, Y+86\n",
    "Button B: X+84, Y+37\n",
    "Prize: X=7870, Y=6450\n",
    "\n",
    "Button A: X+69, Y+23\n",
    "Button B: X+27, Y+71\n",
    "Prize: X=18641, Y=10279\n",
    "\"\"\""
   ]
  },
  {
   "cell_type": "code",
   "execution_count": 3,
   "metadata": {},
   "outputs": [],
   "source": [
    "with open('input.txt') as f:\n",
    "    real_input = f.read()"
   ]
  },
  {
   "cell_type": "code",
   "execution_count": 4,
   "metadata": {},
   "outputs": [],
   "source": [
    "def read_machines_info(input: str):\n",
    "    machines =[]\n",
    "    for machine in input.strip().split(\"\\n\\n\"):\n",
    "        part1, part2, part3 = machine.split('\\n')\n",
    "\n",
    "        buttonA = (int(part1[part1.index(\"X+\")+2:part1.index(\", \")]), int(part1[part1.index(\"Y+\")+2:]))\n",
    "        buttonB = (int(part2[part2.index(\"X+\")+2:part2.index(\", \")]), int(part2[part2.index(\"Y+\")+2:]))\n",
    "        prize = (int(part3[part3.index(\"X=\")+2:part3.index(\", \")]), int(part3[part3.index(\"Y=\")+2:]))\n",
    "\n",
    "        machines.append((buttonA, buttonB, prize))\n",
    "\n",
    "    return machines"
   ]
  },
  {
   "cell_type": "code",
   "execution_count": 5,
   "metadata": {},
   "outputs": [
    {
     "name": "stdout",
     "output_type": "stream",
     "text": [
      "29598\n"
     ]
    }
   ],
   "source": [
    "machines = read_machines_info(real_input)\n",
    "\n",
    "cost_machine = {}\n",
    "for i, ((buttonAx, buttonAy), (buttonBx, buttonBy), (prizex, prizey)) in enumerate(machines):\n",
    "    timesA = 0\n",
    "    while timesA * buttonAx < prizex and timesA * buttonAy < prizey:\n",
    "        restx = prizex - (timesA * buttonAx)\n",
    "        if restx % buttonBx == 0:\n",
    "            timesB = int(restx / buttonBx)\n",
    "\n",
    "            if buttonAy * timesA + buttonBy * timesB == prizey:\n",
    "                cost = 3 * timesA + timesB\n",
    "                if i in cost_machine.keys():\n",
    "                    cost_machine[i] = min(cost_machine[i], cost)\n",
    "                else:\n",
    "                    cost_machine[i] = cost\n",
    "        timesA += 1\n",
    "\n",
    "print(sum(cost_machine.values()))"
   ]
  },
  {
   "cell_type": "code",
   "execution_count": 16,
   "metadata": {},
   "outputs": [],
   "source": [
    "def read_hardcore_machines_info(input: str):\n",
    "    machines =[]\n",
    "    for machine in input.strip().split(\"\\n\\n\"):\n",
    "        part1, part2, part3 = machine.split('\\n')\n",
    "\n",
    "        buttonA = (int(part1[part1.index(\"X+\")+2:part1.index(\", \")]), int(part1[part1.index(\"Y+\")+2:]))\n",
    "        buttonB = (int(part2[part2.index(\"X+\")+2:part2.index(\", \")]), int(part2[part2.index(\"Y+\")+2:]))\n",
    "        prize = (int(part3[part3.index(\"X=\")+2:part3.index(\", \")]) + 10000000000000, int(part3[part3.index(\"Y=\")+2:]) + 10000000000000)\n",
    "\n",
    "        machines.append((buttonA, buttonB, prize))\n",
    "\n",
    "    return machines"
   ]
  },
  {
   "cell_type": "code",
   "execution_count": 17,
   "metadata": {},
   "outputs": [
    {
     "name": "stdout",
     "output_type": "stream",
     "text": [
      "93217456941970\n"
     ]
    }
   ],
   "source": [
    "machines = read_hardcore_machines_info(real_input)\n",
    "\n",
    "cost_machine = {}\n",
    "for i, ((buttonAx, buttonAy), (buttonBx, buttonBy), (prizex, prizey)) in enumerate(machines):\n",
    "    # first check which button is most cost-efficient (A or B) \n",
    "    # start from max button precces that button\n",
    "\n",
    "    timesA = (prizey * buttonBx - prizex * buttonBy) / (buttonBx * buttonAy - buttonAx * buttonBy)\n",
    "    timesB = (prizex - timesA * buttonAx) / buttonBx\n",
    "\n",
    "    if timesA % 1 == 0 and timesB % 1 == 0:\n",
    "        cost_machine[i] = int(timesA) * 3 + int(timesB)\n",
    "\n",
    "print(sum(cost_machine.values()))"
   ]
  }
 ],
 "metadata": {
  "kernelspec": {
   "display_name": ".venv",
   "language": "python",
   "name": "python3"
  },
  "language_info": {
   "codemirror_mode": {
    "name": "ipython",
    "version": 3
   },
   "file_extension": ".py",
   "mimetype": "text/x-python",
   "name": "python",
   "nbconvert_exporter": "python",
   "pygments_lexer": "ipython3",
   "version": "3.11.2"
  }
 },
 "nbformat": 4,
 "nbformat_minor": 2
}
