{
 "cells": [
  {
   "cell_type": "code",
   "execution_count": 51,
   "metadata": {},
   "outputs": [],
   "source": [
    "sample_input = \"125 17\""
   ]
  },
  {
   "cell_type": "code",
   "execution_count": 52,
   "metadata": {},
   "outputs": [],
   "source": [
    "real_input = \"9694820 93 54276 1304 314 664481 0 4\""
   ]
  },
  {
   "cell_type": "code",
   "execution_count": 53,
   "metadata": {},
   "outputs": [],
   "source": [
    "def read_stones(input: str) -> list[str]:\n",
    "    return input.strip().split(' ')"
   ]
  },
  {
   "cell_type": "code",
   "execution_count": 54,
   "metadata": {},
   "outputs": [],
   "source": [
    "def blink(stones: list[str]) -> list[str]:\n",
    "    new_stones = []\n",
    "    for stone in stones:\n",
    "        if stone == \"0\":\n",
    "            new_stones.append(\"1\")\n",
    "        elif len(stone) % 2 == 0: # even\n",
    "            new_stones.append(str(int(stone[:int(len(stone)/2)])))\n",
    "            new_stones.append(str(int(stone[int(len(stone)/2):])))\n",
    "        else:\n",
    "            new_stones.append(str(int(stone) * 2024))\n",
    "    return new_stones"
   ]
  },
  {
   "cell_type": "code",
   "execution_count": 55,
   "metadata": {},
   "outputs": [
    {
     "name": "stdout",
     "output_type": "stream",
     "text": [
      "185894\n"
     ]
    }
   ],
   "source": [
    "# part 1\n",
    "stones = read_stones(real_input)\n",
    "\n",
    "for i in range(25):\n",
    "    stones = blink(stones)\n",
    "print(len(stones))"
   ]
  },
  {
   "cell_type": "code",
   "execution_count": 56,
   "metadata": {},
   "outputs": [],
   "source": [
    "def read_dict_stones(input: str) -> dict[str, int]:\n",
    "    stones = input.strip().split(' ')\n",
    "\n",
    "    dict_stones = {}\n",
    "    for stone in stones:\n",
    "        if stone in dict_stones.keys():\n",
    "            dict_stones[stone] += 1\n",
    "        else:\n",
    "            dict_stones[stone] = 1\n",
    "    return dict_stones"
   ]
  },
  {
   "cell_type": "code",
   "execution_count": 57,
   "metadata": {},
   "outputs": [],
   "source": [
    "def smart_blink(stones: dict[str, int]) -> list[str, int]:\n",
    "    new_stones = {}\n",
    "    for stone in stones.keys():\n",
    "        if stone == \"0\":\n",
    "            if \"1\" in new_stones.keys():\n",
    "                new_stones[\"1\"] += stones[stone]\n",
    "            else:\n",
    "                new_stones[\"1\"] = stones[stone]\n",
    "        elif len(stone) % 2 == 0: # even\n",
    "            new_stone = str(int(stone[:int(len(stone)/2)]))\n",
    "            if new_stone in new_stones.keys():\n",
    "                new_stones[new_stone] += stones[stone]\n",
    "            else:\n",
    "                new_stones[new_stone] = stones[stone]\n",
    "\n",
    "            new_stone = str(int(stone[int(len(stone)/2):]))\n",
    "            if new_stone in new_stones.keys():\n",
    "                new_stones[new_stone] += stones[stone]\n",
    "            else:\n",
    "                new_stones[new_stone] = stones[stone]\n",
    "        else:\n",
    "            new_stone = str(int(stone) * 2024)\n",
    "            if new_stone in new_stones.keys():\n",
    "                new_stones[new_stone] += stones[stone]\n",
    "            else:\n",
    "                new_stones[new_stone] = stones[stone]\n",
    "    return new_stones"
   ]
  },
  {
   "cell_type": "code",
   "execution_count": 58,
   "metadata": {},
   "outputs": [
    {
     "name": "stdout",
     "output_type": "stream",
     "text": [
      "221632504974231\n"
     ]
    }
   ],
   "source": [
    "# part 2\n",
    "dict_stones = read_dict_stones(real_input)\n",
    "\n",
    "for i in range(75):\n",
    "    dict_stones = smart_blink(dict_stones)\n",
    "print(sum(dict_stones.values()))"
   ]
  }
 ],
 "metadata": {
  "kernelspec": {
   "display_name": ".venv",
   "language": "python",
   "name": "python3"
  },
  "language_info": {
   "codemirror_mode": {
    "name": "ipython",
    "version": 3
   },
   "file_extension": ".py",
   "mimetype": "text/x-python",
   "name": "python",
   "nbconvert_exporter": "python",
   "pygments_lexer": "ipython3",
   "version": "3.11.2"
  }
 },
 "nbformat": 4,
 "nbformat_minor": 2
}
