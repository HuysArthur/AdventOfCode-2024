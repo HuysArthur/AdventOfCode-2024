{
 "cells": [
  {
   "cell_type": "code",
   "execution_count": 31,
   "metadata": {},
   "outputs": [],
   "source": [
    "sample_input = \"125 17\""
   ]
  },
  {
   "cell_type": "code",
   "execution_count": 32,
   "metadata": {},
   "outputs": [],
   "source": [
    "real_input = \"9694820 93 54276 1304 314 664481 0 4\""
   ]
  },
  {
   "cell_type": "code",
   "execution_count": 33,
   "metadata": {},
   "outputs": [],
   "source": [
    "def read_stones(input: str) -> list[str]:\n",
    "    return input.strip().split(' ')"
   ]
  },
  {
   "cell_type": "code",
   "execution_count": 34,
   "metadata": {},
   "outputs": [],
   "source": [
    "def blink(stones: list[str]) -> list[str]:\n",
    "    new_stones = []\n",
    "    for stone in stones:\n",
    "        if stone == \"0\":\n",
    "            new_stones.append(\"1\")\n",
    "        elif len(stone) % 2 == 0: # even\n",
    "            new_stones.append(str(int(stone[:int(len(stone)/2)])))\n",
    "            new_stones.append(str(int(stone[int(len(stone)/2):])))\n",
    "        else:\n",
    "            new_stones.append(str(int(stone) * 2024))\n",
    "    return new_stones"
   ]
  },
  {
   "cell_type": "code",
   "execution_count": null,
   "metadata": {},
   "outputs": [
    {
     "name": "stdout",
     "output_type": "stream",
     "text": [
      "185894\n"
     ]
    }
   ],
   "source": [
    "# part 1\n",
    "stones = read_stones(real_input)\n",
    "\n",
    "for i in range(25):\n",
    "    stones = blink(stones)\n",
    "print(len(stones))"
   ]
  }
 ],
 "metadata": {
  "kernelspec": {
   "display_name": ".venv",
   "language": "python",
   "name": "python3"
  },
  "language_info": {
   "codemirror_mode": {
    "name": "ipython",
    "version": 3
   },
   "file_extension": ".py",
   "mimetype": "text/x-python",
   "name": "python",
   "nbconvert_exporter": "python",
   "pygments_lexer": "ipython3",
   "version": "3.11.2"
  }
 },
 "nbformat": 4,
 "nbformat_minor": 2
}
