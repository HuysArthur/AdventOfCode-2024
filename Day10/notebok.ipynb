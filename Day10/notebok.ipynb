{
 "cells": [
  {
   "cell_type": "code",
   "execution_count": 14,
   "metadata": {},
   "outputs": [],
   "source": [
    "sample_input = \"\"\"\n",
    "89010123\n",
    "78121874\n",
    "87430965\n",
    "96549874\n",
    "45678903\n",
    "32019012\n",
    "01329801\n",
    "10456732\n",
    "\"\"\""
   ]
  },
  {
   "cell_type": "code",
   "execution_count": 15,
   "metadata": {},
   "outputs": [],
   "source": [
    "with open(\"input.txt\") as f:\n",
    "    real_input =(f.read())"
   ]
  },
  {
   "cell_type": "code",
   "execution_count": 16,
   "metadata": {},
   "outputs": [],
   "source": [
    "def get_map(input: str) -> list[list[int]]:\n",
    "    return [[int(x) for x in row] for row in input.strip().split('\\n')]"
   ]
  },
  {
   "cell_type": "code",
   "execution_count": 17,
   "metadata": {},
   "outputs": [],
   "source": [
    "def trailhead_score(position, map) -> int:\n",
    "    height = len(map)\n",
    "    width = len(map[0])\n",
    "\n",
    "    reachable_nines = []\n",
    "    possible_next_positions = [position]\n",
    "    while len(possible_next_positions) != 0:\n",
    "        pos = list(possible_next_positions.pop())\n",
    "\n",
    "        if map[pos[1]][pos[0]] == 9:\n",
    "            reachable_nines.append((pos[0], pos[1]))\n",
    "\n",
    "        if pos[1] - 1 >= 0 and map[pos[1]-1][pos[0]] == map[pos[1]][pos[0]] + 1:\n",
    "            possible_next_positions.append((pos[0], pos[1]-1))\n",
    "        if pos[0] + 1 < width and map[pos[1]][pos[0]+1] == map[pos[1]][pos[0]] + 1:\n",
    "            possible_next_positions.append((pos[0]+1, pos[1]))\n",
    "        if pos[1] + 1 < height and map[pos[1]+1][pos[0]] == map[pos[1]][pos[0]] + 1:\n",
    "            possible_next_positions.append((pos[0], pos[1]+1))\n",
    "        if pos[0] - 1 >= 0 and map[pos[1]][pos[0]-1] == map[pos[1]][pos[0]] + 1:\n",
    "            possible_next_positions.append((pos[0]-1, pos[1]))\n",
    "    return len(set(reachable_nines))"
   ]
  },
  {
   "cell_type": "code",
   "execution_count": 18,
   "metadata": {},
   "outputs": [
    {
     "data": {
      "text/plain": [
       "786"
      ]
     },
     "execution_count": 18,
     "metadata": {},
     "output_type": "execute_result"
    }
   ],
   "source": [
    "# Part 1\n",
    "map = get_map(real_input)\n",
    "\n",
    "total_score = 0\n",
    "for y in range(len(map)):\n",
    "    for x in range(len(map[0])):\n",
    "        if map[y][x] == 0:\n",
    "            total_score += trailhead_score((x,y), map)\n",
    "total_score"
   ]
  },
  {
   "cell_type": "code",
   "execution_count": 19,
   "metadata": {},
   "outputs": [],
   "source": [
    "def trailhead_rating(position, map) -> int:\n",
    "    height = len(map)\n",
    "    width = len(map[0])\n",
    "\n",
    "    reachable_nines = []\n",
    "    possible_next_positions = [position]\n",
    "    while len(possible_next_positions) != 0:\n",
    "        pos = list(possible_next_positions.pop())\n",
    "\n",
    "        if map[pos[1]][pos[0]] == 9:\n",
    "            reachable_nines.append((pos[0], pos[1]))\n",
    "\n",
    "        if pos[1] - 1 >= 0 and map[pos[1]-1][pos[0]] == map[pos[1]][pos[0]] + 1:\n",
    "            possible_next_positions.append((pos[0], pos[1]-1))\n",
    "        if pos[0] + 1 < width and map[pos[1]][pos[0]+1] == map[pos[1]][pos[0]] + 1:\n",
    "            possible_next_positions.append((pos[0]+1, pos[1]))\n",
    "        if pos[1] + 1 < height and map[pos[1]+1][pos[0]] == map[pos[1]][pos[0]] + 1:\n",
    "            possible_next_positions.append((pos[0], pos[1]+1))\n",
    "        if pos[0] - 1 >= 0 and map[pos[1]][pos[0]-1] == map[pos[1]][pos[0]] + 1:\n",
    "            possible_next_positions.append((pos[0]-1, pos[1]))\n",
    "    return len(reachable_nines)"
   ]
  },
  {
   "cell_type": "code",
   "execution_count": 20,
   "metadata": {},
   "outputs": [
    {
     "data": {
      "text/plain": [
       "1722"
      ]
     },
     "execution_count": 20,
     "metadata": {},
     "output_type": "execute_result"
    }
   ],
   "source": [
    "# Part 2\n",
    "map = get_map(real_input)\n",
    "\n",
    "total_score = 0\n",
    "for y in range(len(map)):\n",
    "    for x in range(len(map[0])):\n",
    "        if map[y][x] == 0:\n",
    "            total_score += trailhead_rating((x,y), map)\n",
    "total_score"
   ]
  }
 ],
 "metadata": {
  "kernelspec": {
   "display_name": ".venv",
   "language": "python",
   "name": "python3"
  },
  "language_info": {
   "codemirror_mode": {
    "name": "ipython",
    "version": 3
   },
   "file_extension": ".py",
   "mimetype": "text/x-python",
   "name": "python",
   "nbconvert_exporter": "python",
   "pygments_lexer": "ipython3",
   "version": "3.11.2"
  }
 },
 "nbformat": 4,
 "nbformat_minor": 2
}
