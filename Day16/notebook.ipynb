{
 "cells": [
  {
   "cell_type": "code",
   "execution_count": 54,
   "metadata": {},
   "outputs": [],
   "source": [
    "sample_input_1 = \"\"\"\n",
    "###############\n",
    "#.......#....E#\n",
    "#.#.###.#.###.#\n",
    "#.....#.#...#.#\n",
    "#.###.#####.#.#\n",
    "#.#.#.......#.#\n",
    "#.#.#####.###.#\n",
    "#...........#.#\n",
    "###.#.#####.#.#\n",
    "#...#.....#.#.#\n",
    "#.#.#.###.#.#.#\n",
    "#.....#...#.#.#\n",
    "#.###.#.#.#.#.#\n",
    "#S..#.....#...#\n",
    "###############\n",
    "\"\"\""
   ]
  },
  {
   "cell_type": "code",
   "execution_count": 55,
   "metadata": {},
   "outputs": [],
   "source": [
    "sample_input_2 = \"\"\"\n",
    "#################\n",
    "#...#...#...#..E#\n",
    "#.#.#.#.#.#.#.#.#\n",
    "#.#.#.#...#...#.#\n",
    "#.#.#.#.###.#.#.#\n",
    "#...#.#.#.....#.#\n",
    "#.#.#.#.#.#####.#\n",
    "#.#...#.#.#.....#\n",
    "#.#.#####.#.###.#\n",
    "#.#.#.......#...#\n",
    "#.#.###.#####.###\n",
    "#.#.#...#.....#.#\n",
    "#.#.#.#####.###.#\n",
    "#.#.#.........#.#\n",
    "#.#.#.#########.#\n",
    "#S#.............#\n",
    "#################\n",
    "\"\"\""
   ]
  },
  {
   "cell_type": "code",
   "execution_count": 59,
   "metadata": {},
   "outputs": [],
   "source": [
    "with open('input.txt') as f:\n",
    "    real_input = f.read()"
   ]
  },
  {
   "cell_type": "code",
   "execution_count": 56,
   "metadata": {},
   "outputs": [],
   "source": [
    "def read_maze(input: str):\n",
    "    return [list(row) for row in input.strip().split('\\n')]"
   ]
  },
  {
   "cell_type": "code",
   "execution_count": 63,
   "metadata": {},
   "outputs": [
    {
     "name": "stdout",
     "output_type": "stream",
     "text": [
      "###############\n",
      "#.......#....E#\n",
      "#.#.###.#.###.#\n",
      "#.....#.#...#.#\n",
      "#.###.#####.#.#\n",
      "#.#.#.......#.#\n",
      "#.#.#####.###.#\n",
      "#...........#.#\n",
      "###.#.#####.#.#\n",
      "#...#.....#.#.#\n",
      "#.#.#.###.#.#.#\n",
      "#.....#...#.#.#\n",
      "#.###.#.#.#.#.#\n",
      "#S..#.....#...#\n",
      "###############\n"
     ]
    }
   ],
   "source": [
    "# Part 1\n",
    "maze = read_maze(sample_input_1)\n",
    "for row in maze:\n",
    "    print(''.join(row))\n",
    "\n",
    "for y, row in enumerate(maze):\n",
    "    for x, value in enumerate(row):\n",
    "        if value == 'S':\n",
    "            start_position = (x,y)\n",
    "        if value == 'E':\n",
    "            end_position = (x,y)\n",
    "\n",
    "positions = [((start_position[0], start_position[1], 1), 0, [])] # north: 0, east: 1, south: 2, west: 3\n",
    "while end_position not in [(pos[0], pos[1]) for pos, cost, _ in positions if cost == min([c for _, c, _ in positions])]:\n",
    "    position, score, prev_positions = sorted([(p, s, pp) for p, s, pp in positions if p[0] != end_position[0] or p[1] != end_position[1]], key=lambda x : x[1])[0]\n",
    "    positions.remove((position, score, prev_positions))\n",
    "\n",
    "    match position[2]:\n",
    "        case 0:\n",
    "            if maze[position[1]-1][position[0]] != '#':\n",
    "                positions.append(((position[0], position[1]-1, 0), score+1, [*prev_positions, (position[0], position[1])]))\n",
    "            if maze[position[1]][position[0]-1] != '#':\n",
    "                positions.append(((position[0]-1, position[1], 3), score+1001, [*prev_positions, (position[0], position[1])]))\n",
    "            if maze[position[1]][position[0]+1] != '#':\n",
    "                positions.append(((position[0]+1, position[1], 1), score+1001, [*prev_positions, (position[0], position[1])]))\n",
    "        case 1:\n",
    "            if maze[position[1]][position[0]+1] != '#':\n",
    "                positions.append(((position[0]+1, position[1], 1), score+1, [*prev_positions, (position[0], position[1])]))\n",
    "            if maze[position[1]-1][position[0]] != '#':\n",
    "                positions.append(((position[0], position[1]-1, 0), score+1001, [*prev_positions, (position[0], position[1])]))\n",
    "            if maze[position[1]+1][position[0]] != '#':\n",
    "                positions.append(((position[0], position[1]+1, 2), score+1001, [*prev_positions, (position[0], position[1])]))\n",
    "        case 2:\n",
    "            if maze[position[1]+1][position[0]] != '#':\n",
    "                positions.append(((position[0], position[1]+1, 2), score+1, [*prev_positions, (position[0], position[1])]))\n",
    "            if maze[position[1]][position[0]+1] != '#':\n",
    "                positions.append(((position[0]+1, position[1], 1), score+1001, [*prev_positions, (position[0], position[1])]))\n",
    "            if maze[position[1]][position[0]-1] != '#':\n",
    "                positions.append(((position[0]-1, position[1], 3), score+1001, [*prev_positions, (position[0], position[1])]))\n",
    "        case 3:\n",
    "            if maze[position[1]][position[0]-1] != '#':\n",
    "                positions.append(((position[0]-1, position[1], 3), score+1, [*prev_positions, (position[0], position[1])]))\n",
    "            if maze[position[1]+1][position[0]] != '#':\n",
    "                positions.append(((position[0], position[1]+1, 2), score+1001, [*prev_positions, (position[0], position[1])]))\n",
    "            if maze[position[1]-1][position[0]] != '#':\n",
    "                positions.append(((position[0], position[1]-1, 0), score+1001, [*prev_positions, (position[0], position[1])]))"
   ]
  },
  {
   "cell_type": "code",
   "execution_count": 58,
   "metadata": {},
   "outputs": [
    {
     "data": {
      "text/plain": [
       "[11048, 11048]"
      ]
     },
     "execution_count": 58,
     "metadata": {},
     "output_type": "execute_result"
    }
   ],
   "source": [
    "[cost for pos, cost, pp in positions if (pos[0], pos[1]) == end_position]"
   ]
  }
 ],
 "metadata": {
  "kernelspec": {
   "display_name": ".venv",
   "language": "python",
   "name": "python3"
  },
  "language_info": {
   "codemirror_mode": {
    "name": "ipython",
    "version": 3
   },
   "file_extension": ".py",
   "mimetype": "text/x-python",
   "name": "python",
   "nbconvert_exporter": "python",
   "pygments_lexer": "ipython3",
   "version": "3.11.2"
  }
 },
 "nbformat": 4,
 "nbformat_minor": 2
}
