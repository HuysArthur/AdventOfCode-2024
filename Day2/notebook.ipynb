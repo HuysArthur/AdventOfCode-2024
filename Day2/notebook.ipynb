{
 "cells": [
  {
   "cell_type": "code",
   "execution_count": 1,
   "metadata": {},
   "outputs": [],
   "source": [
    "sample_input = \"\"\"\n",
    "7 6 4 2 1\n",
    "1 2 7 8 9\n",
    "9 7 6 2 1\n",
    "1 3 2 4 5\n",
    "8 6 4 4 1\n",
    "1 3 6 7 9\n",
    "\"\"\""
   ]
  },
  {
   "cell_type": "code",
   "execution_count": 2,
   "metadata": {},
   "outputs": [],
   "source": [
    "def read_input(input: str) -> list[list[int]]:\n",
    "    reports = []\n",
    "\n",
    "    rows = input.strip().split('\\n')\n",
    "    for row in rows:\n",
    "        levels = row.split(' ')\n",
    "        reports.append([int(level) for level in levels])\n",
    "\n",
    "    return reports"
   ]
  },
  {
   "cell_type": "code",
   "execution_count": 38,
   "metadata": {},
   "outputs": [
    {
     "data": {
      "text/plain": [
       "[[7, 6, 4, 2, 1],\n",
       " [1, 2, 7, 8, 9],\n",
       " [9, 7, 6, 2, 1],\n",
       " [1, 3, 2, 4, 5],\n",
       " [8, 6, 4, 4, 1],\n",
       " [1, 3, 6, 7, 9]]"
      ]
     },
     "execution_count": 38,
     "metadata": {},
     "output_type": "execute_result"
    }
   ],
   "source": [
    "# Sample input\n",
    "reports = read_input(sample_input)\n",
    "reports"
   ]
  },
  {
   "cell_type": "code",
   "execution_count": 53,
   "metadata": {},
   "outputs": [],
   "source": [
    "# Real input\n",
    "with open(\"input.txt\") as f:\n",
    "    reports = read_input(f.read())"
   ]
  },
  {
   "cell_type": "code",
   "execution_count": 17,
   "metadata": {},
   "outputs": [],
   "source": [
    "def save_report(report: list[int]) -> bool:\n",
    "    # Check decreasing\n",
    "    valid=True\n",
    "    for level1, level2 in zip(report[:-1], report[1:]):\n",
    "        if level1 <= level2 or level1 - level2 > 3:\n",
    "            valid = False\n",
    "            break \n",
    "    \n",
    "    if valid : return True\n",
    "        \n",
    "    # Check ascending\n",
    "    valid=True\n",
    "    for level1, level2 in zip(report[:-1], report[1:]):\n",
    "        if level2 <= level1 or level2 - level1 > 3:\n",
    "            valid = False\n",
    "            break\n",
    "\n",
    "    return valid"
   ]
  },
  {
   "cell_type": "code",
   "execution_count": 18,
   "metadata": {},
   "outputs": [
    {
     "data": {
      "text/plain": [
       "279"
      ]
     },
     "execution_count": 18,
     "metadata": {},
     "output_type": "execute_result"
    }
   ],
   "source": [
    "# Part 1\n",
    "\n",
    "count_save_reports = 0\n",
    "for report in reports:\n",
    "    if save_report(report):\n",
    "        count_save_reports += 1\n",
    "\n",
    "count_save_reports"
   ]
  },
  {
   "cell_type": "code",
   "execution_count": 51,
   "metadata": {},
   "outputs": [],
   "source": [
    "def save_report_2(report: list[int]) -> bool:\n",
    "    original_report = report\n",
    "    removed_index = -1\n",
    "\n",
    "    while(not save_report(report)):\n",
    "        removed_index += 1\n",
    "        if removed_index == len(original_report):\n",
    "            break\n",
    "        report = original_report[:removed_index] + original_report[removed_index+1:]\n",
    "\n",
    "    else:\n",
    "        return True\n",
    "    return False"
   ]
  },
  {
   "cell_type": "code",
   "execution_count": 54,
   "metadata": {},
   "outputs": [
    {
     "data": {
      "text/plain": [
       "343"
      ]
     },
     "execution_count": 54,
     "metadata": {},
     "output_type": "execute_result"
    }
   ],
   "source": [
    "# Part 2\n",
    "\n",
    "count_save_reports = 0\n",
    "for report in reports:\n",
    "    if save_report_2(report):\n",
    "        count_save_reports += 1\n",
    "\n",
    "count_save_reports"
   ]
  }
 ],
 "metadata": {
  "kernelspec": {
   "display_name": ".venv",
   "language": "python",
   "name": "python3"
  },
  "language_info": {
   "codemirror_mode": {
    "name": "ipython",
    "version": 3
   },
   "file_extension": ".py",
   "mimetype": "text/x-python",
   "name": "python",
   "nbconvert_exporter": "python",
   "pygments_lexer": "ipython3",
   "version": "3.11.2"
  }
 },
 "nbformat": 4,
 "nbformat_minor": 2
}
