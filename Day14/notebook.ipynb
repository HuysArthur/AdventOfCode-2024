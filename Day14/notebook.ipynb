{
 "cells": [
  {
   "cell_type": "code",
   "execution_count": 2,
   "metadata": {},
   "outputs": [],
   "source": [
    "sample_input = \"\"\"\n",
    "p=0,4 v=3,-3\n",
    "p=6,3 v=-1,-3\n",
    "p=10,3 v=-1,2\n",
    "p=2,0 v=2,-1\n",
    "p=0,0 v=1,3\n",
    "p=3,0 v=-2,-2\n",
    "p=7,6 v=-1,-3\n",
    "p=3,0 v=-1,-2\n",
    "p=9,3 v=2,3\n",
    "p=7,3 v=-1,2\n",
    "p=2,4 v=2,-3\n",
    "p=9,5 v=-3,-3\n",
    "\"\"\""
   ]
  },
  {
   "cell_type": "code",
   "execution_count": 3,
   "metadata": {},
   "outputs": [],
   "source": [
    "with open('input.txt') as f:\n",
    "    real_input = f.read()"
   ]
  },
  {
   "cell_type": "code",
   "execution_count": 4,
   "metadata": {},
   "outputs": [],
   "source": [
    "def read_robots(input: str):\n",
    "    robots = []\n",
    "    for row in input.strip().split('\\n'):\n",
    "        left, right = row.split(' ')\n",
    "        position = left.split(\"p=\")[1].split(',')\n",
    "        position = (int(position[0]), int(position[1]))\n",
    "        velocity = right.split(\"v=\")[1].split(',')\n",
    "        velocity = (int(velocity[0]), int(velocity[1]))\n",
    "\n",
    "        robots.append((position, velocity))\n",
    "    return robots"
   ]
  },
  {
   "cell_type": "code",
   "execution_count": 5,
   "metadata": {},
   "outputs": [
    {
     "name": "stdout",
     "output_type": "stream",
     "text": [
      "126 127 123 118\n"
     ]
    },
    {
     "data": {
      "text/plain": [
       "232253028"
      ]
     },
     "execution_count": 5,
     "metadata": {},
     "output_type": "execute_result"
    }
   ],
   "source": [
    "# Part 1\n",
    "robots = read_robots(real_input)\n",
    "\n",
    "positions = []\n",
    "\n",
    "seconds = 100\n",
    "width = 101\n",
    "height = 103\n",
    "for position, velocity in robots:\n",
    "    new_x =  (position[0] + velocity[0] * seconds) % width\n",
    "    new_y = (position[1] + velocity[1] * seconds) % height\n",
    "    positions.append((new_x, new_y))\n",
    "positions\n",
    "\n",
    "map = [[0] * width for _ in range(height)]\n",
    "for x, y in positions:\n",
    "    map[y][x] += 1\n",
    "\n",
    "middle_x = int((width - 1) / 2)\n",
    "middle_y = int((height - 1) / 2)\n",
    "\n",
    "Q1 = [row[:middle_x] for row in map[:middle_y]]\n",
    "q1 = sum([sum(row) for row in Q1])\n",
    "\n",
    "Q2 = [row[middle_x+1:] for row in map[:middle_y]]\n",
    "q2 = sum([sum(row) for row in Q2])\n",
    "\n",
    "Q3 = [row[:middle_x] for row in map[middle_y+1:]]\n",
    "q3 = sum([sum(row) for row in Q3])\n",
    "\n",
    "Q4 = [row[middle_x+1:] for row in map[middle_y+1:]]\n",
    "q4 = sum([sum(row) for row in Q4])\n",
    "\n",
    "print(q1, q2, q3, q4)\n",
    "safety_factor = q1 * q2 * q3 * q4\n",
    "safety_factor"
   ]
  },
  {
   "cell_type": "code",
   "execution_count": 6,
   "metadata": {},
   "outputs": [],
   "source": [
    "import cv2\n",
    "import numpy as np\n",
    "seconds = 0"
   ]
  },
  {
   "cell_type": "code",
   "execution_count": null,
   "metadata": {},
   "outputs": [
    {
     "name": "stdout",
     "output_type": "stream",
     "text": [
      "10000\n"
     ]
    }
   ],
   "source": [
    "# Part 2\n",
    "robots = read_robots(real_input)\n",
    "\n",
    "\n",
    "width = 101\n",
    "height = 103\n",
    "\n",
    "seconds = 0\n",
    "counts = []\n",
    "for _ in range(10000):\n",
    "    positions = []\n",
    "    for position, velocity in robots:\n",
    "        new_x =  (position[0] + velocity[0] * seconds) % width\n",
    "        new_y = (position[1] + velocity[1] * seconds) % height\n",
    "        positions.append((new_x, new_y))\n",
    "    positions\n",
    "\n",
    "    map = [[0] * width for _ in range(height)]\n",
    "    for x, y in positions:\n",
    "        map[y][x] = 1\n",
    "\n",
    "    counts.append(sum([sum(row) for row in map])) # amount of different positions the robots occupy\n",
    "    seconds += 1"
   ]
  },
  {
   "cell_type": "code",
   "execution_count": 18,
   "metadata": {},
   "outputs": [
    {
     "data": {
      "text/plain": [
       "True"
      ]
     },
     "execution_count": 18,
     "metadata": {},
     "output_type": "execute_result"
    }
   ],
   "source": [
    "positions = []\n",
    "seconds = counts.index(max(counts)) # seconds where map had least overlaps of robots\n",
    "for position, velocity in robots:\n",
    "    new_x =  (position[0] + velocity[0] * seconds) % width\n",
    "    new_y = (position[1] + velocity[1] * seconds) % height\n",
    "    positions.append((new_x, new_y))\n",
    "positions\n",
    "\n",
    "map = [[0] * width for _ in range(height)]\n",
    "for x, y in positions:\n",
    "    map[y][x] = 255\n",
    "\n",
    "cv2.imwrite(f\"positions_{seconds}.png\", np.array(map))\n"
   ]
  }
 ],
 "metadata": {
  "kernelspec": {
   "display_name": ".venv",
   "language": "python",
   "name": "python3"
  },
  "language_info": {
   "codemirror_mode": {
    "name": "ipython",
    "version": 3
   },
   "file_extension": ".py",
   "mimetype": "text/x-python",
   "name": "python",
   "nbconvert_exporter": "python",
   "pygments_lexer": "ipython3",
   "version": "3.11.2"
  }
 },
 "nbformat": 4,
 "nbformat_minor": 2
}
