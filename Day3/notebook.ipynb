{
 "cells": [
  {
   "cell_type": "code",
   "execution_count": 55,
   "metadata": {},
   "outputs": [],
   "source": [
    "sample_input = \"xmul(2,4)%&mul[3,7]!@^do_not_mul(5,5)+mul(32,64]then(mul(11,8)mul(8,5))\""
   ]
  },
  {
   "cell_type": "code",
   "execution_count": 56,
   "metadata": {},
   "outputs": [],
   "source": [
    "with open(\"input.txt\") as f:\n",
    "    real_input =(f.read())"
   ]
  },
  {
   "cell_type": "code",
   "execution_count": 57,
   "metadata": {},
   "outputs": [],
   "source": [
    "import re\n",
    "def find_mul_operations(string: str) -> list[tuple[int]]:\n",
    "    matches = re.findall(r\"mul\\(\\d{1,3}\\,\\d{1,3}\\)\", string)\n",
    "\n",
    "    mul_operations = []\n",
    "    for match in matches:\n",
    "        left_op, right_op = match[4:-1].split(',')\n",
    "        mul_operations.append((int(left_op), int(right_op)))\n",
    "    \n",
    "    return mul_operations"
   ]
  },
  {
   "cell_type": "code",
   "execution_count": 58,
   "metadata": {},
   "outputs": [
    {
     "name": "stdout",
     "output_type": "stream",
     "text": [
      "161289189\n"
     ]
    }
   ],
   "source": [
    "# Part 1\n",
    "\n",
    "result = 0\n",
    "for left_op, right_op in find_mul_operations(real_input):\n",
    "    result += left_op * right_op\n",
    "\n",
    "print(result)"
   ]
  },
  {
   "cell_type": "code",
   "execution_count": 59,
   "metadata": {},
   "outputs": [],
   "source": [
    "sample_input = \"xmul(2,4)&mul[3,7]!^don't()_mul(5,5)+mul(32,64](mul(11,8)undo()?mul(8,5))\""
   ]
  },
  {
   "cell_type": "code",
   "execution_count": 61,
   "metadata": {},
   "outputs": [],
   "source": [
    "def find_valid_mul_operations(string: str) -> list[tuple[int]]:\n",
    "    matches = re.findall(r\"mul\\(\\d{1,3}\\,\\d{1,3}\\)|do\\(\\)|don\\'t\\(\\)\", string)\n",
    "\n",
    "    mul_operations = []\n",
    "    \n",
    "    valid = True\n",
    "    for match in matches:\n",
    "        if match == 'do()':\n",
    "            valid = True\n",
    "        elif match == \"don't()\":\n",
    "            valid = False\n",
    "        elif valid:\n",
    "            left_op, right_op = match[4:-1].split(',')\n",
    "            mul_operations.append((int(left_op), int(right_op)))\n",
    "    \n",
    "    return mul_operations"
   ]
  },
  {
   "cell_type": "code",
   "execution_count": 63,
   "metadata": {},
   "outputs": [
    {
     "name": "stdout",
     "output_type": "stream",
     "text": [
      "83595109\n"
     ]
    }
   ],
   "source": [
    "# Part 2\n",
    "\n",
    "result = 0\n",
    "for left_op, right_op in find_valid_mul_operations(real_input):\n",
    "    result += left_op * right_op\n",
    "\n",
    "print(result)"
   ]
  }
 ],
 "metadata": {
  "kernelspec": {
   "display_name": ".venv",
   "language": "python",
   "name": "python3"
  },
  "language_info": {
   "codemirror_mode": {
    "name": "ipython",
    "version": 3
   },
   "file_extension": ".py",
   "mimetype": "text/x-python",
   "name": "python",
   "nbconvert_exporter": "python",
   "pygments_lexer": "ipython3",
   "version": "3.11.2"
  }
 },
 "nbformat": 4,
 "nbformat_minor": 2
}
