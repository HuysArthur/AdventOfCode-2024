{
 "cells": [
  {
   "cell_type": "code",
   "execution_count": 2,
   "metadata": {},
   "outputs": [],
   "source": [
    "sample_input = \"\"\"\n",
    "3   4\n",
    "4   3\n",
    "2   5\n",
    "1   3\n",
    "3   9\n",
    "3   3\n",
    "\"\"\""
   ]
  },
  {
   "cell_type": "code",
   "execution_count": 15,
   "metadata": {},
   "outputs": [],
   "source": [
    "def read_input(input: str) -> tuple[list[int], list[int]]:\n",
    "    left_column: list[int] = []\n",
    "    right_column: list[int] = []\n",
    "\n",
    "    rows = input.strip().split('\\n')\n",
    "    for row in rows:\n",
    "        left, right = row.split(\"   \")\n",
    "        left_column.append(int(left))\n",
    "        right_column.append(int(right))\n",
    "    \n",
    "    return left_column, right_column"
   ]
  },
  {
   "cell_type": "code",
   "execution_count": 22,
   "metadata": {},
   "outputs": [
    {
     "data": {
      "text/plain": [
       "([3, 4, 2, 1, 3, 3], [4, 3, 5, 3, 9, 3])"
      ]
     },
     "execution_count": 22,
     "metadata": {},
     "output_type": "execute_result"
    }
   ],
   "source": [
    "# Sample input\n",
    "list1, list2 = read_input(sample_input)\n",
    "list1, list2"
   ]
  },
  {
   "cell_type": "code",
   "execution_count": 26,
   "metadata": {},
   "outputs": [],
   "source": [
    "# Real input\n",
    "with open(\"input.txt\") as f:\n",
    "    list1, list2 = read_input(f.read())"
   ]
  },
  {
   "cell_type": "code",
   "execution_count": null,
   "metadata": {},
   "outputs": [
    {
     "data": {
      "text/plain": [
       "1506483"
      ]
     },
     "execution_count": 18,
     "metadata": {},
     "output_type": "execute_result"
    }
   ],
   "source": [
    "# Part 1\n",
    "\n",
    "total_distance = 0\n",
    "for x, y in zip(sorted(list1), sorted(list2)):\n",
    "    total_distance += abs(x - y)\n",
    "\n",
    "total_distance"
   ]
  },
  {
   "cell_type": "code",
   "execution_count": 27,
   "metadata": {},
   "outputs": [
    {
     "data": {
      "text/plain": [
       "23126924"
      ]
     },
     "execution_count": 27,
     "metadata": {},
     "output_type": "execute_result"
    }
   ],
   "source": [
    "# Part 2\n",
    "\n",
    "counts_list2 = {}\n",
    "\n",
    "for x in list2:\n",
    "    if x not in counts_list2.keys():\n",
    "        counts_list2[x] = 1\n",
    "    else:\n",
    "        counts_list2[x] += 1\n",
    "\n",
    "total_similarity_score = 0\n",
    "for x in list1:\n",
    "    if x in counts_list2.keys():\n",
    "        total_similarity_score += x * counts_list2[x]\n",
    "\n",
    "total_similarity_score"
   ]
  }
 ],
 "metadata": {
  "kernelspec": {
   "display_name": ".venv",
   "language": "python",
   "name": "python3"
  },
  "language_info": {
   "codemirror_mode": {
    "name": "ipython",
    "version": 3
   },
   "file_extension": ".py",
   "mimetype": "text/x-python",
   "name": "python",
   "nbconvert_exporter": "python",
   "pygments_lexer": "ipython3",
   "version": "3.11.2"
  }
 },
 "nbformat": 4,
 "nbformat_minor": 2
}
