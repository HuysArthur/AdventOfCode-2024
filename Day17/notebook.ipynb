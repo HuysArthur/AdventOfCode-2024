{
 "cells": [
  {
   "cell_type": "code",
   "execution_count": 1,
   "metadata": {},
   "outputs": [],
   "source": [
    "sample_input = \"\"\"\n",
    "Register A: 729\n",
    "Register B: 0\n",
    "Register C: 0\n",
    "\n",
    "Program: 0,1,5,4,3,0\n",
    "\"\"\""
   ]
  },
  {
   "cell_type": "code",
   "execution_count": 4,
   "metadata": {},
   "outputs": [],
   "source": [
    "def read_computer(input: str):\n",
    "    first, last = input.strip().split(\"\\n\\n\")\n",
    "\n",
    "    regA, regB, regC = first.split('\\n')\n",
    "    regA = int(regA.split(\"Register A: \")[1])\n",
    "    regB = int(regB.split(\"Register B: \")[1])\n",
    "    regC = int(regC.split(\"Register C: \")[1])\n",
    "\n",
    "    program = [int(x) for x in last.split(\"Program: \")[1].split(',')]\n",
    "\n",
    "    return (regA, regB, regC), program"
   ]
  },
  {
   "cell_type": "code",
   "execution_count": 2,
   "metadata": {},
   "outputs": [],
   "source": [
    "def operand_value(operand: int, register):\n",
    "    match operand:\n",
    "        case 0 | 1 | 2 | 3:\n",
    "            return operand\n",
    "        case 4:\n",
    "            return register[0]\n",
    "        case 5:\n",
    "            return register[1]\n",
    "        case 6:\n",
    "            return register[2]\n",
    "        case 7:\n",
    "            raise Exception('Invalid')"
   ]
  },
  {
   "cell_type": "code",
   "execution_count": null,
   "metadata": {},
   "outputs": [],
   "source": [
    "def perform_instruction(instruction: int, value: int, register):\n",
    "    match instruction:\n",
    "        case 0:\n",
    "            return register[0] / (value * value)\n",
    "        case 1:\n",
    "        case 2:\n",
    "        case 3:\n",
    "        case 4:\n",
    "        case 5:\n",
    "        case 6:\n",
    "        case 7:"
   ]
  },
  {
   "cell_type": "code",
   "execution_count": 6,
   "metadata": {},
   "outputs": [
    {
     "name": "stdout",
     "output_type": "stream",
     "text": [
      "0\n",
      "2\n",
      "4\n"
     ]
    }
   ],
   "source": [
    "register, program = read_computer(sample_input)\n",
    "\n",
    "for i in range(0, len(program), 2):\n",
    "    instruction = program[i]\n",
    "    operand = program[i+1]\n",
    "\n",
    "    value = operand_value(operand, register\n",
    ")\n",
    "    perform_instruction(instruction, value, register\n",
    ")"
   ]
  },
  {
   "cell_type": "code",
   "execution_count": null,
   "metadata": {},
   "outputs": [],
   "source": []
  }
 ],
 "metadata": {
  "kernelspec": {
   "display_name": ".venv",
   "language": "python",
   "name": "python3"
  },
  "language_info": {
   "codemirror_mode": {
    "name": "ipython",
    "version": 3
   },
   "file_extension": ".py",
   "mimetype": "text/x-python",
   "name": "python",
   "nbconvert_exporter": "python",
   "pygments_lexer": "ipython3",
   "version": "3.11.2"
  }
 },
 "nbformat": 4,
 "nbformat_minor": 2
}
