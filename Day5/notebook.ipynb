{
 "cells": [
  {
   "cell_type": "code",
   "execution_count": 1,
   "metadata": {},
   "outputs": [],
   "source": [
    "sample_input = \"\"\"\n",
    "47|53\n",
    "97|13\n",
    "97|61\n",
    "97|47\n",
    "75|29\n",
    "61|13\n",
    "75|53\n",
    "29|13\n",
    "97|29\n",
    "53|29\n",
    "61|53\n",
    "97|53\n",
    "61|29\n",
    "47|13\n",
    "75|47\n",
    "97|75\n",
    "47|61\n",
    "75|61\n",
    "47|29\n",
    "75|13\n",
    "53|13\n",
    "\n",
    "75,47,61,53,29\n",
    "97,61,53,29,13\n",
    "75,29,13\n",
    "75,97,47,61,53\n",
    "61,13,29\n",
    "97,13,75,29,47\n",
    "\"\"\""
   ]
  },
  {
   "cell_type": "code",
   "execution_count": 14,
   "metadata": {},
   "outputs": [],
   "source": [
    "with open(\"input.txt\") as f:\n",
    "    real_input =(f.read())"
   ]
  },
  {
   "cell_type": "code",
   "execution_count": 4,
   "metadata": {},
   "outputs": [],
   "source": [
    "def read_input(input: str) -> tuple[list[tuple[int, int]], list[list[int]]]:\n",
    "    rows = input.strip().split('\\n')\n",
    "    seperator = rows.index('')\n",
    "\n",
    "    rules = []\n",
    "    for row in rows[:seperator]:\n",
    "        l, r = row.split('|')\n",
    "        rules.append((int(l), int(r)))\n",
    "\n",
    "    updates = []\n",
    "    for row in rows[seperator+1:]:\n",
    "        updates.append([int(x) for x in row.split(',')])\n",
    "\n",
    "    return rules, updates"
   ]
  },
  {
   "cell_type": "code",
   "execution_count": 9,
   "metadata": {},
   "outputs": [],
   "source": [
    "def check_correctly_ordered(update: list[int], rules: list[tuple[int, int]]) -> bool:\n",
    "    for l, r in rules:\n",
    "        if l in update and r in update and update.index(l) > update.index(r):\n",
    "            return False\n",
    "\n",
    "    return True"
   ]
  },
  {
   "cell_type": "code",
   "execution_count": 15,
   "metadata": {},
   "outputs": [
    {
     "data": {
      "text/plain": [
       "6034"
      ]
     },
     "execution_count": 15,
     "metadata": {},
     "output_type": "execute_result"
    }
   ],
   "source": [
    "# Part 1\n",
    "\n",
    "rules, updates = read_input(real_input)\n",
    "\n",
    "result = 0\n",
    "for update in updates:\n",
    "    if check_correctly_ordered(update, rules):\n",
    "        result += update[int((len(update)-1) / 2)]\n",
    "result"
   ]
  },
  {
   "cell_type": "code",
   "execution_count": 17,
   "metadata": {},
   "outputs": [],
   "source": [
    "def order_correctly(update: list[int], ordered_rules: list[tuple[int, int]]) -> list[int]:\n",
    "    sorted_update = update\n",
    "    for l, r in ordered_rules:\n",
    "        if l in sorted_update and r in sorted_update:\n",
    "            index_l = sorted_update.index(l)\n",
    "            index_r = sorted_update.index(r)\n",
    "            if index_l > index_r:\n",
    "                for i in range(index_r, index_l):\n",
    "                    temp = sorted_update[i]\n",
    "                    sorted_update[i] = sorted_update[i+1]\n",
    "                    sorted_update[i+1] = temp\n",
    "\n",
    "    return sorted_update"
   ]
  },
  {
   "cell_type": "code",
   "execution_count": 21,
   "metadata": {},
   "outputs": [
    {
     "data": {
      "text/plain": [
       "6305"
      ]
     },
     "execution_count": 21,
     "metadata": {},
     "output_type": "execute_result"
    }
   ],
   "source": [
    "# Part 2\n",
    "\n",
    "def last_element(x):\n",
    "    return x[-1]\n",
    "\n",
    "rules, updates = read_input(real_input)\n",
    "sorted_rules = sorted(rules, key=last_element)\n",
    "\n",
    "result = 0\n",
    "for update in updates:\n",
    "    if not check_correctly_ordered(update, rules):\n",
    "        ordered_update = order_correctly(update, sorted_rules)\n",
    "        result += ordered_update[int((len(ordered_update)-1) / 2)]\n",
    "result"
   ]
  }
 ],
 "metadata": {
  "kernelspec": {
   "display_name": ".venv",
   "language": "python",
   "name": "python3"
  },
  "language_info": {
   "codemirror_mode": {
    "name": "ipython",
    "version": 3
   },
   "file_extension": ".py",
   "mimetype": "text/x-python",
   "name": "python",
   "nbconvert_exporter": "python",
   "pygments_lexer": "ipython3",
   "version": "3.11.2"
  }
 },
 "nbformat": 4,
 "nbformat_minor": 2
}
