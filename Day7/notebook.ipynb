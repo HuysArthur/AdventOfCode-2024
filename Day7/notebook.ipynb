{
 "cells": [
  {
   "cell_type": "code",
   "execution_count": 1,
   "metadata": {},
   "outputs": [],
   "source": [
    "sample_input = \"\"\"\n",
    "190: 10 19\n",
    "3267: 81 40 27\n",
    "83: 17 5\n",
    "156: 15 6\n",
    "7290: 6 8 6 15\n",
    "161011: 16 10 13\n",
    "192: 17 8 14\n",
    "21037: 9 7 18 13\n",
    "292: 11 6 16 20\n",
    "\"\"\""
   ]
  },
  {
   "cell_type": "code",
   "execution_count": 7,
   "metadata": {},
   "outputs": [],
   "source": [
    "with open(\"input.txt\") as f:\n",
    "    real_input =(f.read())"
   ]
  },
  {
   "cell_type": "code",
   "execution_count": 2,
   "metadata": {},
   "outputs": [],
   "source": [
    "def read_equations(input: str) -> list[tuple[int, list[int]]]:\n",
    "    equtations = []\n",
    "    for row in input.strip().split('\\n'):\n",
    "        result, args = row.split(': ')\n",
    "        equtations.append((int(result), [int(x) for x in args.split(' ')]))\n",
    "\n",
    "    return equtations"
   ]
  },
  {
   "cell_type": "code",
   "execution_count": 3,
   "metadata": {},
   "outputs": [],
   "source": [
    "def solveable(args: list[int], result: int):\n",
    "    if len(args) == 1:\n",
    "        return args[0] == result\n",
    "\n",
    "    return solveable([args[0] + args[1], *args[2:]], result) or solveable([args[0] * args[1], *args[2:]] , result)"
   ]
  },
  {
   "cell_type": "code",
   "execution_count": 8,
   "metadata": {},
   "outputs": [
    {
     "data": {
      "text/plain": [
       "2437272016585"
      ]
     },
     "execution_count": 8,
     "metadata": {},
     "output_type": "execute_result"
    }
   ],
   "source": [
    "# Part 1\n",
    "equations = read_equations(real_input)\n",
    "\n",
    "total_calibration_result = 0\n",
    "for result, args in equations:\n",
    "    if solveable(args, result):\n",
    "        total_calibration_result += result\n",
    "total_calibration_result"
   ]
  },
  {
   "cell_type": "code",
   "execution_count": 9,
   "metadata": {},
   "outputs": [],
   "source": [
    "def solveable(args: list[int], result: int):\n",
    "    if len(args) == 1:\n",
    "        return args[0] == result\n",
    "\n",
    "    return solveable([args[0] + args[1], *args[2:]], result) or solveable([args[0] * args[1], *args[2:]] , result) or solveable([int(f\"{args[0]}{args[1]}\"), *args[2:]] , result)"
   ]
  },
  {
   "cell_type": "code",
   "execution_count": 12,
   "metadata": {},
   "outputs": [
    {
     "data": {
      "text/plain": [
       "162987117690649"
      ]
     },
     "execution_count": 12,
     "metadata": {},
     "output_type": "execute_result"
    }
   ],
   "source": [
    "# Part 2\n",
    "equations = read_equations(real_input)\n",
    "\n",
    "total_calibration_result = 0\n",
    "for result, args in equations:\n",
    "    if solveable(args, result):\n",
    "        total_calibration_result += result\n",
    "total_calibration_result"
   ]
  }
 ],
 "metadata": {
  "kernelspec": {
   "display_name": ".venv",
   "language": "python",
   "name": "python3"
  },
  "language_info": {
   "codemirror_mode": {
    "name": "ipython",
    "version": 3
   },
   "file_extension": ".py",
   "mimetype": "text/x-python",
   "name": "python",
   "nbconvert_exporter": "python",
   "pygments_lexer": "ipython3",
   "version": "3.11.2"
  }
 },
 "nbformat": 4,
 "nbformat_minor": 2
}
