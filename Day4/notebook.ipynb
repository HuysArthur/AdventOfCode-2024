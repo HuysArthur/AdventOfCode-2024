{
 "cells": [
  {
   "cell_type": "code",
   "execution_count": 1,
   "metadata": {},
   "outputs": [],
   "source": [
    "sample_input = \"\"\"MMMSXXMASM\n",
    "MSAMXMSMSA\n",
    "AMXSXMAAMM\n",
    "MSAMASMSMX\n",
    "XMASAMXAMM\n",
    "XXAMMXXAMA\n",
    "SMSMSASXSS\n",
    "SAXAMASAAA\n",
    "MAMMMXMMMM\n",
    "MXMXAXMASX\"\"\""
   ]
  },
  {
   "cell_type": "code",
   "execution_count": 60,
   "metadata": {},
   "outputs": [],
   "source": [
    "with open(\"input.txt\") as f:\n",
    "    real_input =(f.read())"
   ]
  },
  {
   "cell_type": "code",
   "execution_count": 7,
   "metadata": {},
   "outputs": [],
   "source": [
    "def get_array(string: str):\n",
    "    array = []\n",
    "\n",
    "    rows = string.strip().split('\\n')\n",
    "    for row in rows:\n",
    "        array.append(list(row))\n",
    "    \n",
    "    return array"
   ]
  },
  {
   "cell_type": "code",
   "execution_count": 58,
   "metadata": {},
   "outputs": [],
   "source": [
    "\n",
    "def get_lines(array: list[list[str]]) -> list[str]:\n",
    "    \"\"\"\n",
    "    Returns all lines as strings from array (horizontal, vertical and diagonal)\n",
    "    \"\"\"\n",
    "    h_lines = []\n",
    "    v_lines = []\n",
    "    d_lines = []\n",
    "\n",
    "    height = len(array)\n",
    "    width = len(array[0])\n",
    "\n",
    "    for i in range(height):\n",
    "        line = array[i]\n",
    "        h_lines.append(\"\".join(line))\n",
    "        h_lines.append(\"\".join(reversed(line)))\n",
    "\n",
    "    for i in range(width):\n",
    "        line = [row[i] for row in array]\n",
    "\n",
    "        v_lines.append(\"\".join(line))\n",
    "        v_lines.append(\"\".join(reversed(line)))\n",
    "\n",
    "    # Left diagonal\n",
    "    for i in range(1-height, width):\n",
    "        line = []\n",
    "        x = i\n",
    "        y = 0\n",
    "        while y < height and x < width:\n",
    "            if 0 <= x:\n",
    "                line.append(array[y][x])\n",
    "\n",
    "            x += 1\n",
    "            y += 1\n",
    "\n",
    "        d_lines.append(\"\".join(line))\n",
    "        d_lines.append(\"\".join(reversed(line)))\n",
    "    \n",
    "    # Right diagonal\n",
    "    for i in range(1-height, width):\n",
    "        line = []\n",
    "        x = i\n",
    "        y = height-1\n",
    "        while 0 <= y and x < width:\n",
    "            if 0 <= x:\n",
    "                line.append(array[y][x])\n",
    "\n",
    "            x += 1\n",
    "            y -= 1\n",
    "\n",
    "        d_lines.append(\"\".join(line))\n",
    "        d_lines.append(\"\".join(reversed(line)))\n",
    "\n",
    "    return [*h_lines, *v_lines, *d_lines]\n"
   ]
  },
  {
   "cell_type": "code",
   "execution_count": 46,
   "metadata": {},
   "outputs": [],
   "source": [
    "import re\n",
    "\n",
    "def count_xmas(string: str):\n",
    "    return len(re.findall('XMAS', string))"
   ]
  },
  {
   "cell_type": "code",
   "execution_count": 61,
   "metadata": {},
   "outputs": [
    {
     "data": {
      "text/plain": [
       "2390"
      ]
     },
     "execution_count": 61,
     "metadata": {},
     "output_type": "execute_result"
    }
   ],
   "source": [
    "# Part 1\n",
    "\n",
    "array = get_array(real_input)\n",
    "lines = get_lines(array)\n",
    "\n",
    "xmas_count = 0\n",
    "for line in lines:\n",
    "    xmas_count += count_xmas(line)\n",
    "\n",
    "xmas_count"
   ]
  },
  {
   "cell_type": "code",
   "execution_count": 65,
   "metadata": {},
   "outputs": [],
   "source": [
    "def count_x_mas(array):\n",
    "    height = len(array)\n",
    "    width = len(array[0])\n",
    "\n",
    "    x_mas_count = 0\n",
    "    for x in range(1, width-1):\n",
    "        for y in range(1, height-1):\n",
    "            if array[y][x] == 'A':\n",
    "                if (\n",
    "                    (\n",
    "                        (array[y-1][x-1] == 'M' and array[y+1][x+1] == 'S') or \n",
    "                        (array[y-1][x-1] == 'S' and array[y+1][x+1] == 'M')) and\n",
    "                    (\n",
    "                        (array[y+1][x-1] == 'M' and array[y-1][x+1] == 'S') or \n",
    "                        (array[y+1][x-1] == 'S' and array[y-1][x+1] == 'M'))):\n",
    "                    x_mas_count += 1\n",
    "    return x_mas_count\n"
   ]
  },
  {
   "cell_type": "code",
   "execution_count": 68,
   "metadata": {},
   "outputs": [
    {
     "data": {
      "text/plain": [
       "1809"
      ]
     },
     "execution_count": 68,
     "metadata": {},
     "output_type": "execute_result"
    }
   ],
   "source": [
    "# Part 2\n",
    "\n",
    "array = get_array(real_input)\n",
    "x_mas_count = count_x_mas(array)\n",
    "\n",
    "x_mas_count"
   ]
  }
 ],
 "metadata": {
  "kernelspec": {
   "display_name": ".venv",
   "language": "python",
   "name": "python3"
  },
  "language_info": {
   "codemirror_mode": {
    "name": "ipython",
    "version": 3
   },
   "file_extension": ".py",
   "mimetype": "text/x-python",
   "name": "python",
   "nbconvert_exporter": "python",
   "pygments_lexer": "ipython3",
   "version": "3.11.2"
  }
 },
 "nbformat": 4,
 "nbformat_minor": 2
}
