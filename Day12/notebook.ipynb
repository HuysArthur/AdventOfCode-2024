{
 "cells": [
  {
   "cell_type": "code",
   "execution_count": 1,
   "metadata": {},
   "outputs": [],
   "source": [
    "sample_input_1 = \"\"\"\n",
    "AAAA\n",
    "BBCD\n",
    "BBCC\n",
    "EEEC\n",
    "\"\"\""
   ]
  },
  {
   "cell_type": "code",
   "execution_count": 2,
   "metadata": {},
   "outputs": [],
   "source": [
    "sample_input_2 = \"\"\"\n",
    "OOOOO\n",
    "OXOXO\n",
    "OOOOO\n",
    "OXOXO\n",
    "OOOOO\n",
    "\"\"\""
   ]
  },
  {
   "cell_type": "code",
   "execution_count": 3,
   "metadata": {},
   "outputs": [],
   "source": [
    "sample_input_3 = \"\"\"\n",
    "RRRRIICCFF\n",
    "RRRRIICCCF\n",
    "VVRRRCCFFF\n",
    "VVRCCCJFFF\n",
    "VVVVCJJCFE\n",
    "VVIVCCJJEE\n",
    "VVIIICJJEE\n",
    "MIIIIIJJEE\n",
    "MIIISIJEEE\n",
    "MMMISSJEEE\n",
    "\"\"\""
   ]
  },
  {
   "cell_type": "code",
   "execution_count": 4,
   "metadata": {},
   "outputs": [],
   "source": [
    "with open(\"input.txt\") as f:\n",
    "    real_input =(f.read())"
   ]
  },
  {
   "cell_type": "code",
   "execution_count": 5,
   "metadata": {},
   "outputs": [],
   "source": [
    "def read_garden(input: str) -> list[list[str]]:\n",
    "    return [list(row) for row in input.strip().split('\\n')]"
   ]
  },
  {
   "cell_type": "code",
   "execution_count": 6,
   "metadata": {},
   "outputs": [],
   "source": [
    "def fence_amount(position: tuple[int, int], garden: list[list[str]]) -> int:\n",
    "    height = len(garden)\n",
    "    width = len(garden[0])\n",
    "    amount = 0\n",
    "\n",
    "    if position[1] == 0 or garden[position[1]][position[0]] != garden[position[1]-1][position[0]]:\n",
    "        amount += 1\n",
    "    if position[0] == width-1 or garden[position[1]][position[0]] != garden[position[1]][position[0]+1]:\n",
    "        amount += 1\n",
    "    if position[1] == height-1 or garden[position[1]][position[0]] != garden[position[1]+1][position[0]]:\n",
    "        amount += 1\n",
    "    if position[0] == 0 or garden[position[1]][position[0]] != garden[position[1]][position[0]-1]:\n",
    "        amount += 1\n",
    "    \n",
    "    return amount"
   ]
  },
  {
   "cell_type": "code",
   "execution_count": 7,
   "metadata": {},
   "outputs": [],
   "source": [
    "def rename_plot(plots: list[list[int]], previous: int, new: int):\n",
    "    height = len(plots)\n",
    "    width = len(plots[0])\n",
    "\n",
    "    for y in range(height):\n",
    "        for x in range(width):\n",
    "            if plots[y][x] == previous:\n",
    "                plots[y][x] = new\n",
    "\n",
    "def highest_plot(plots: list[list[int]]) -> int:\n",
    "    return max([max(row) for row in plots])\n",
    "\n",
    "def find_plots(garden: list[list[str]]):\n",
    "    height = len(garden)\n",
    "    width = len(garden[0])\n",
    "\n",
    "    plots = [[-1] * width for _ in range(height)]\n",
    "\n",
    "    for y, row in enumerate(garden):\n",
    "        for x, current_plant in enumerate(row):\n",
    "            up_plot = None if y == 0 else plots[y-1][x]\n",
    "            up_plant = None if y == 0 else garden[y-1][x]\n",
    "            left_plot = None if x == 0 else plots[y][x-1]\n",
    "            left_plant = None if x == 0 else garden[y][x-1]\n",
    "\n",
    "            if current_plant == up_plant and current_plant == left_plant:\n",
    "                if up_plot != left_plot:\n",
    "                    rename_plot(plots, max(up_plot, left_plot), min(up_plot, left_plot))\n",
    "                    plots[y][x] = min(up_plot, left_plot)\n",
    "                else:\n",
    "                    plots[y][x] = up_plot\n",
    "            elif current_plant == up_plant:\n",
    "                plots[y][x] = up_plot\n",
    "            elif current_plant == left_plant:\n",
    "                plots[y][x] = left_plot\n",
    "            else:\n",
    "                plots[y][x] = highest_plot(plots) + 1\n",
    "    return plots"
   ]
  },
  {
   "cell_type": "code",
   "execution_count": 48,
   "metadata": {},
   "outputs": [
    {
     "data": {
      "text/plain": [
       "1371306"
      ]
     },
     "execution_count": 48,
     "metadata": {},
     "output_type": "execute_result"
    }
   ],
   "source": [
    "# Part 1\n",
    "garden = read_garden(real_input)\n",
    "plots = find_plots(garden)\n",
    "\n",
    "plot_dict = {}\n",
    "for y, row in enumerate(plots):\n",
    "    for x, current_plot in enumerate(row):\n",
    "        if current_plot not in plot_dict.keys():\n",
    "            plot_dict[current_plot] = []\n",
    "        plot_dict[current_plot].append(fence_amount((x,y), garden))\n",
    "sum([sum(plot_dict[plot]) * len(plot_dict[plot]) for plot in plot_dict.keys()])"
   ]
  },
  {
   "cell_type": "code",
   "execution_count": 39,
   "metadata": {},
   "outputs": [],
   "source": [
    "def count_corners(position: tuple[int,int], plots: list[list[int]]):\n",
    "    plot = plots[position[1]][position[0]]\n",
    "    amount = 0\n",
    "    height = len(plots)\n",
    "    width = len(plots[0])\n",
    "\n",
    "    plot_up = plots[position[1]-1][position[0]] if position[1] > 0 else -1\n",
    "    plot_right = plots[position[1]][position[0]+1] if position[0] < width-1 else -1\n",
    "    plot_down = plots[position[1]+1][position[0]] if position[1] < height-1 else -1\n",
    "    plot_left = plots[position[1]][position[0]-1] if position[0] > 0 else -1\n",
    "\n",
    "    # outer corner\n",
    "    if plot != plot_up and plot != plot_left: amount += 1 # TL\n",
    "    if plot != plot_up and plot != plot_right: amount += 1 # TR\n",
    "    if plot != plot_down and plot != plot_left: amount += 1 # BL\n",
    "    if plot != plot_down and plot != plot_right: amount += 1 # BR\n",
    "\n",
    "    # inner corner\n",
    "    if plot == plot_up and plot == plot_left and plot != plots[position[1]-1][position[0]-1]: amount += 1 # TL\n",
    "    if plot == plot_up and plot == plot_right and plot != plots[position[1]-1][position[0]+1]: amount += 1 # TR\n",
    "    if plot == plot_down and plot == plot_left and plot != plots[position[1]+1][position[0]-1]: amount += 1 # BL\n",
    "    if plot == plot_down and plot == plot_right and plot != plots[position[1]+1][position[0]+1]: amount += 1 # BR\n",
    "\n",
    "    return amount"
   ]
  },
  {
   "cell_type": "code",
   "execution_count": 49,
   "metadata": {},
   "outputs": [
    {
     "data": {
      "text/plain": [
       "805880"
      ]
     },
     "execution_count": 49,
     "metadata": {},
     "output_type": "execute_result"
    }
   ],
   "source": [
    "# part 2\n",
    "plot_corners = {}\n",
    "plot_area = {}\n",
    "\n",
    "for y, row in enumerate(plots):\n",
    "    for x, plot in enumerate(row):\n",
    "        if plot not in plot_area.keys():\n",
    "            plot_area[plot] = 1\n",
    "        else:\n",
    "            plot_area[plot] += 1\n",
    "\n",
    "        if plot not in plot_corners.keys():\n",
    "            plot_corners[plot] = count_corners((x,y), plots)\n",
    "        else:\n",
    "            plot_corners[plot] += count_corners((x,y), plots)\n",
    "\n",
    "plot_sides = plot_corners # polygons: amount of corners == amount of sides\n",
    "\n",
    "sum([plot_corners[plot] * plot_area[plot] for plot in plot_area.keys()])\n"
   ]
  },
  {
   "cell_type": "code",
   "execution_count": null,
   "metadata": {},
   "outputs": [],
   "source": [
    "# Visualize map with colors\n",
    "\n",
    "import numpy as np\n",
    "import cv2\n",
    "import random\n",
    "\n",
    "height = len(garden)\n",
    "width = len(garden[0])\n",
    "\n",
    "img_garden = np.zeros((height, width, 3))\n",
    "img_plots = np.zeros((height, width, 3))\n",
    "\n",
    "plant_color = {}\n",
    "plot_color = {}\n",
    "for y in range(height):\n",
    "    for x in range(width):\n",
    "        if garden[y][x] not in plant_color.keys():\n",
    "            plant_color[garden[y][x]] = [random.randint(0, 255), random.randint(0, 255), random.randint(0, 255)]\n",
    "        img_garden[y,x] = plant_color[garden[y][x]]\n",
    "\n",
    "        if plots[y][x] not in plot_color.keys():\n",
    "            plot_color[plots[y][x]] = [random.randint(0, 255), random.randint(0, 255), random.randint(0, 255)]\n",
    "        img_plots[y,x] = plot_color[plots[y][x]]\n",
    "\n",
    "cv2.imwrite('garden.png', img_garden)\n",
    "cv2.imwrite('plots.png', img_plots)"
   ]
  }
 ],
 "metadata": {
  "kernelspec": {
   "display_name": ".venv",
   "language": "python",
   "name": "python3"
  },
  "language_info": {
   "codemirror_mode": {
    "name": "ipython",
    "version": 3
   },
   "file_extension": ".py",
   "mimetype": "text/x-python",
   "name": "python",
   "nbconvert_exporter": "python",
   "pygments_lexer": "ipython3",
   "version": "3.11.2"
  }
 },
 "nbformat": 4,
 "nbformat_minor": 2
}
